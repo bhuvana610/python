{
 "cells": [
  {
   "cell_type": "code",
   "execution_count": 2,
   "metadata": {},
   "outputs": [
    {
     "name": "stdout",
     "output_type": "stream",
     "text": [
      "False\n",
      "True\n"
     ]
    }
   ],
   "source": [
    "\n",
    "s=\"Python is easy\";\n",
    "s1=\"python\";\n",
    "print(s.islower());\n",
    "print(s1.islower());"
   ]
  },
  {
   "cell_type": "code",
   "execution_count": 3,
   "metadata": {},
   "outputs": [
    {
     "name": "stdout",
     "output_type": "stream",
     "text": [
      "False\n",
      "True\n"
     ]
    }
   ],
   "source": [
    "\n",
    "s=\"Application\";\n",
    "s1='ANIL';\n",
    "print(s.isupper());\n",
    "print(s1.isupper());"
   ]
  },
  {
   "cell_type": "code",
   "execution_count": 4,
   "metadata": {},
   "outputs": [
    {
     "name": "stdout",
     "output_type": "stream",
     "text": [
      "True\n",
      "False\n"
     ]
    }
   ],
   "source": [
    "\n",
    "s=\"5678\";\n",
    "s1=\"App1889\";\n",
    "print(s.isnumeric());\n",
    "print(s1.isnumeric());"
   ]
  },
  {
   "cell_type": "code",
   "execution_count": 5,
   "metadata": {},
   "outputs": [
    {
     "name": "stdout",
     "output_type": "stream",
     "text": [
      "True\n",
      "False\n"
     ]
    }
   ],
   "source": [
    "\n",
    "s=\"Application\";\n",
    "s1=\"App1889\";\n",
    "print(s.isalpha());\n",
    "print(s1.isalpha());"
   ]
  },
  {
   "cell_type": "code",
   "execution_count": 6,
   "metadata": {},
   "outputs": [
    {
     "name": "stdout",
     "output_type": "stream",
     "text": [
      "False\n",
      "True\n"
     ]
    }
   ],
   "source": [
    "\n",
    "s=\"Python programming\";\n",
    "s1=\"Python Programming\";\n",
    "print(s.istitle());\n",
    "print(s1.istitle());"
   ]
  },
  {
   "cell_type": "code",
   "execution_count": 7,
   "metadata": {},
   "outputs": [
    {
     "name": "stdout",
     "output_type": "stream",
     "text": [
      "True\n",
      "False\n"
     ]
    }
   ],
   "source": [
    "\n",
    "s=\"     \";\n",
    "s1=\"Python\";\n",
    "print(s.isspace());\n",
    "print(s1.isspace());"
   ]
  },
  {
   "cell_type": "code",
   "execution_count": 9,
   "metadata": {},
   "outputs": [
    {
     "name": "stdout",
     "output_type": "stream",
     "text": [
      "P y t h o n\n",
      "Python,Programming,Easy\n",
      ",\n"
     ]
    }
   ],
   "source": [
    "str=\"Python\";\n",
    "print(\" \".join(str))\n",
    "print(\",\".join([\"Python\",\"Programming\",\"Easy\"]));\n",
    "\n",
    "lst=[\"\",\"\"]\n",
    "print(\",\".join(lst));\n",
    "\n",
    "\n",
    "\n"
   ]
  },
  {
   "cell_type": "code",
   "execution_count": 10,
   "metadata": {},
   "outputs": [
    {
     "name": "stdout",
     "output_type": "stream",
     "text": [
      "['Python', 'is', 'Easy']\n",
      "['Python is E', 'sy']\n",
      "['Python is Easy']\n"
     ]
    }
   ],
   "source": [
    "s=\"Python is Easy\";\n",
    "print(s.split())\n",
    "print(s.split(\"a\"));\n",
    "print(s.split(\",\"))\n",
    "\n"
   ]
  },
  {
   "cell_type": "code",
   "execution_count": 11,
   "metadata": {},
   "outputs": [
    {
     "name": "stdout",
     "output_type": "stream",
     "text": [
      "['Python', 'Programming', 'is', 'easy', 'to', 'learn']\n",
      "2\n"
     ]
    }
   ],
   "source": [
    "s=\"Python Programming is easy to learn\";\n",
    "lst=s.split();\n",
    "print(lst);\n",
    "print(lst.index(\"is\"))"
   ]
  },
  {
   "cell_type": "code",
   "execution_count": 12,
   "metadata": {},
   "outputs": [
    {
     "name": "stdout",
     "output_type": "stream",
     "text": [
      "Python Proapplicationmming\n"
     ]
    }
   ],
   "source": [
    "\n",
    "s=\"Python Programming\";\n",
    "print(s.replace(\"gra\",\"application\"));\n",
    "\n"
   ]
  },
  {
   "cell_type": "code",
   "execution_count": 13,
   "metadata": {},
   "outputs": [
    {
     "name": "stdout",
     "output_type": "stream",
     "text": [
      "['P', 'y', 't', 'h', 'o', 'n', ' ', 'P', 'r', 'o', 'g', 'r', 'a', 'm', 'm', 'i', 'n', 'g', ' ', 'i', 's', ' ', 'e', 'a', 's', 'y', ' ', 't', 'o', ' ', 'l', 'e', 'a', 'r', 'n']\n"
     ]
    }
   ],
   "source": [
    "s=\"Python Programming is easy to learn\";\n",
    "lst=list(s);\n",
    "print(lst);\n",
    "\n"
   ]
  },
  {
   "cell_type": "markdown",
   "metadata": {},
   "source": [
    "### python-tuples"
   ]
  },
  {
   "cell_type": "code",
   "execution_count": 14,
   "metadata": {},
   "outputs": [
    {
     "name": "stdout",
     "output_type": "stream",
     "text": [
      "('Python', 'Programming', '1989', '2019', 'Machine Learning', 'AI')\n",
      "(1, 2, 3, 4, 5)\n",
      "t1[0]= Python\n",
      "t1[2]= 1989\n",
      "t1[-1]= AI\n",
      "t1[1:4]= ('Programming', '1989', '2019')\n",
      "t1[2:-2]= ('1989', '2019')\n"
     ]
    }
   ],
   "source": [
    "\n",
    "t1=(\"Python\",\"Programming\",\"1989\",\"2019\",\"Machine Learning\",\"AI\")\n",
    "t2=(1,2,3,4,5)\n",
    "print(t1);\n",
    "print(t2);\n",
    "\n",
    "t1=(\"Python\",\"Programming\",\"1989\",\"2019\",\"Machine Learning\",\"AI\")\n",
    "print(\"t1[0]=\",t1[0]);\n",
    "print(\"t1[2]=\",t1[2]);\n",
    "print(\"t1[-1]=\",t1[-1]);\n",
    "print(\"t1[1:4]=\",t1[1:4]);\n",
    "print(\"t1[2:-2]=\",t1[2:-2]);\n",
    "\n"
   ]
  },
  {
   "cell_type": "code",
   "execution_count": 15,
   "metadata": {},
   "outputs": [
    {
     "name": "stdout",
     "output_type": "stream",
     "text": [
      "('Python', 'Pogrammong', 1989, 2019, 'Machine Learning', 'AI')\n",
      "(1, 2, 3, 4, 5)\n"
     ]
    }
   ],
   "source": [
    "t1=(\"Python\",\"Pogrammong\",1989,2019,\"Machine Learning\",\"AI\");\n",
    "t2=(1,2,3,4,5)\n",
    "print(t1);\n",
    "print(t2);"
   ]
  },
  {
   "cell_type": "code",
   "execution_count": 16,
   "metadata": {},
   "outputs": [
    {
     "name": "stdout",
     "output_type": "stream",
     "text": [
      "t1[0]= Python\n",
      "t1[2]= 1989\n",
      "t1[-1]= AI\n",
      "t1[1:4]= ('Pogrammong', 1989, 2019)\n",
      "t1[2:-2]= (1989, 2019)\n"
     ]
    }
   ],
   "source": [
    "t1=(\"Python\",\"Pogrammong\",1989,2019,\"Machine Learning\",\"AI\");\n",
    "\n",
    "print(\"t1[0]=\",t1[0])\n",
    "print(\"t1[2]=\",t1[2])\n",
    "print(\"t1[-1]=\",t1[-1])\n",
    "print(\"t1[1:4]=\",t1[1:4])\n",
    "print(\"t1[2:-2]=\",t1[2:-2])"
   ]
  },
  {
   "cell_type": "code",
   "execution_count": 17,
   "metadata": {},
   "outputs": [
    {
     "name": "stdout",
     "output_type": "stream",
     "text": [
      "('Python', 'Programmong', 1989, 2019, 'Machine Learning', 'AI')\n"
     ]
    }
   ],
   "source": [
    "t1=(\"Python\",\"Programmong\"); \n",
    "t2=(1989,2019,\"Machine Learning\",\"AI\");\n",
    "t3=t1+t2;\n",
    "print(t3);"
   ]
  },
  {
   "cell_type": "code",
   "execution_count": 18,
   "metadata": {},
   "outputs": [
    {
     "name": "stdout",
     "output_type": "stream",
     "text": [
      "6\n"
     ]
    }
   ],
   "source": [
    "\n",
    "t1=(\"Python\",\"Programming\",\"1989\",\"2019\",\"Machine Learning\",\"AI\")\n",
    "print(len(t1))"
   ]
  },
  {
   "cell_type": "code",
   "execution_count": 19,
   "metadata": {},
   "outputs": [
    {
     "name": "stdout",
     "output_type": "stream",
     "text": [
      "['Python', 'Pogrammong', 1989, 2019, 'Machine Learning', 'AI']\n",
      "('Python', 'Pogrammong', 1989, 2019, 'Machine Learning', 'AI')\n"
     ]
    }
   ],
   "source": [
    "list1=[\"Python\",\"Pogrammong\",1989,2019,\"Machine Learning\",\"AI\"];\n",
    "print(list1);\n",
    "tuple1=tuple(list1);\n",
    "print(tuple1);"
   ]
  },
  {
   "cell_type": "code",
   "execution_count": 20,
   "metadata": {},
   "outputs": [
    {
     "name": "stdout",
     "output_type": "stream",
     "text": [
      "user1[Name]= Anil\n",
      "user1[Age]= 29\n",
      "user1[EmailID]= anil@gmail.com\n",
      "user1[Mobile no.]= 123456789\n"
     ]
    }
   ],
   "source": [
    "\n",
    "user1={'Name': 'Anil', 'Age': '29','EmailID':'anil@gmail.com','Mobile no.':'123456789'}\n",
    "print(\"user1[Name]=\",user1['Name'])\n",
    "print(\"user1[Age]=\",user1['Age'])\n",
    "print(\"user1[EmailID]=\",user1['EmailID'])\n",
    "print(\"user1[Mobile no.]=\",user1['Mobile no.'])"
   ]
  },
  {
   "cell_type": "code",
   "execution_count": 21,
   "metadata": {},
   "outputs": [
    {
     "name": "stdout",
     "output_type": "stream",
     "text": [
      "anil@gmail.com\n",
      "Anil@gmail.com\n",
      "Hyderabad\n"
     ]
    }
   ],
   "source": [
    "\n",
    "user1={'Name': 'Anil', 'Age': '29','EmailID':'anil@gmail.com','Mobile no.':'123456789'}\n",
    "print(user1['EmailID']);\n",
    "            \n",
    "#Update\n",
    "user1['EmailID']='Anil@gmail.com'\n",
    "print(user1['EmailID'])\n",
    "user1['Address']='Hyderabad'  #New entry\n",
    "print(user1['Address'])"
   ]
  },
  {
   "cell_type": "code",
   "execution_count": 24,
   "metadata": {},
   "outputs": [],
   "source": [
    "\n",
    "user1={'Name': 'Anil', 'Age': '29','EmailID':'anil@gmail.com','Mobile no.':'123456789'}\n",
    "del user1['EmailID'];\n",
    "user1.clear()\n",
    "del user1"
   ]
  },
  {
   "cell_type": "code",
   "execution_count": 1,
   "metadata": {},
   "outputs": [
    {
     "name": "stdout",
     "output_type": "stream",
     "text": [
      "4\n",
      "5\n"
     ]
    }
   ],
   "source": [
    "user1={'Name': 'Anil', 'Age': '29','EmailID':'anil@gmail.com','Mobile no.':'123456789'}\n",
    "print(len(user1));\n",
    "user1['Address']='Hyerabad'\n",
    "print(len(user1))\n",
    "\n"
   ]
  },
  {
   "cell_type": "code",
   "execution_count": 2,
   "metadata": {},
   "outputs": [
    {
     "name": "stdout",
     "output_type": "stream",
     "text": [
      "{'Name': 'Anil', 'Age': '29', 'EmailID': 'anil@gmail.com', 'Mobile no.': '123456789'}\n",
      "{'Name': 'Anil', 'Age': '29', 'EmailID': 'anil@gmail.com', 'Mobile no.': '123456789'}\n",
      "{'Name': 'Anil', 'Age': '29', 'EmailID': 'anil@gmail.com', 'Mobile no.': '123456789', 'Address': 'Hyderabad'}\n",
      "{'Name': 'Anil', 'Age': '29', 'EmailID': 'anil@gmail.com', 'Mobile no.': '123456789'}\n"
     ]
    }
   ],
   "source": [
    "\n",
    "user1={'Name': 'Anil', 'Age': '29','EmailID':'anil@gmail.com','Mobile no.':'123456789'}\n",
    "user2=user1.copy()\n",
    "\n",
    "print(user1)\n",
    "print(user2)\n",
    "user1['Address']='Hyderabad'\n",
    "print(user1)\n",
    "print(user2)\n",
    "\n"
   ]
  },
  {
   "cell_type": "code",
   "execution_count": 4,
   "metadata": {},
   "outputs": [
    {
     "name": "stdout",
     "output_type": "stream",
     "text": [
      "dict_items([('Name', 'Anil'), ('Age', '29'), ('EmailID', 'anil@gmail.com'), ('Mobile no.', '123456789')])\n"
     ]
    }
   ],
   "source": [
    "user1={'Name': 'Anil', 'Age': '29','EmailID':'anil@gmail.com','Mobile no.':'123456789'}\n",
    "print(user1.items())"
   ]
  },
  {
   "cell_type": "code",
   "execution_count": 5,
   "metadata": {},
   "outputs": [
    {
     "name": "stdout",
     "output_type": "stream",
     "text": [
      "dict_values(['Anil', '29', 'anil@gmail.com', '123456789'])\n",
      "dict_values(['Anil', '29', 'anil@gmail.com', '123456789'])\n"
     ]
    }
   ],
   "source": [
    "user1={'Name': 'Anil', 'Age': '29','EmailID':'anil@gmail.com','Mobile no.':'123456789'}\n",
    "user2=user1.copy()\n",
    "print(user1.values())\n",
    "print(user2.values())"
   ]
  },
  {
   "cell_type": "code",
   "execution_count": 7,
   "metadata": {},
   "outputs": [
    {
     "name": "stdout",
     "output_type": "stream",
     "text": [
      "pythonprogramming\n"
     ]
    }
   ],
   "source": [
    "list=['python','programming']\n",
    "print(\"%s%s\"%(list[0],list[1]))"
   ]
  },
  {
   "cell_type": "code",
   "execution_count": 7,
   "metadata": {},
   "outputs": [
    {
     "name": "stdout",
     "output_type": "stream",
     "text": [
      "Contact Anil added\n",
      "Contact Harsha added\n",
      "Contact Anil already exists\n"
     ]
    }
   ],
   "source": [
    "contacts={}\n",
    "def addContact(name,phone):\n",
    "    #verify that the contact doesnot already exists\n",
    "    if name not in contacts:\n",
    "        contacts[name]=phone\n",
    "        print(\"Contact %s added\" % name)\n",
    "    else:\n",
    "        print(\"Contact %s already exists\" % name)\n",
    "    return\n",
    "addContact(\"Anil\",8467987563)\n",
    "addContact(\"Harsha\",764985987)\n",
    "addContact(\"Anil\",456798086)\n",
    "\n"
   ]
  },
  {
   "cell_type": "code",
   "execution_count": 8,
   "metadata": {},
   "outputs": [
    {
     "name": "stdout",
     "output_type": "stream",
     "text": [
      "Anil  :  8467987563\n",
      "Ajay does not exists\n",
      "Harsha  :  764985987\n",
      "Kranth does not exists\n"
     ]
    }
   ],
   "source": [
    "def searchContact(name):\n",
    "    if name in contacts:\n",
    "        print(name,\" : \",contacts[name])\n",
    "    else:\n",
    "        print(\"%s does not exists\" % name)\n",
    "    return\n",
    "searchContact(\"Anil\")\n",
    "searchContact(\"Ajay\")\n",
    "searchContact(\"Harsha\")\n",
    "searchContact(\"Kranth\")"
   ]
  },
  {
   "cell_type": "code",
   "execution_count": 9,
   "metadata": {},
   "outputs": [
    {
     "name": "stdout",
     "output_type": "stream",
     "text": [
      "2 Contacts added successful\n"
     ]
    }
   ],
   "source": [
    "\n",
    "def importContacts(newContacts):\n",
    "    contacts.update(newContacts)\n",
    "    print(len(newContacts.keys()),\"Contacts added successful\");\n",
    "    return;\n",
    "\n",
    "newContacts={'Dinesh':45674578,'Ajay':894577387}\n",
    "importContacts(newContacts)\n",
    "\n"
   ]
  },
  {
   "cell_type": "markdown",
   "metadata": {},
   "source": [
    "### delete contact from contact list"
   ]
  },
  {
   "cell_type": "code",
   "execution_count": 13,
   "metadata": {},
   "outputs": [
    {
     "name": "stdout",
     "output_type": "stream",
     "text": [
      "Harsha  is not exists in the contact\n",
      "Naveen  is not exists in the contact\n"
     ]
    }
   ],
   "source": [
    "def deleteContact(name):\n",
    "    if name in contacts:\n",
    "        del contacts[name]\n",
    "        print(name,\": is deleted from the contact\")\n",
    "    else:\n",
    "        print(name,\" is not exists in the contact\")\n",
    "    return\n",
    "deleteContact(\"Harsha\")\n",
    "deleteContact(\"Naveen\")"
   ]
  },
  {
   "cell_type": "code",
   "execution_count": 14,
   "metadata": {},
   "outputs": [
    {
     "name": "stdout",
     "output_type": "stream",
     "text": [
      "{'Anil': 8467987563, 'Dinesh': 45674578, 'Ajay': 894577387}\n"
     ]
    }
   ],
   "source": [
    "print(contacts)"
   ]
  },
  {
   "cell_type": "code",
   "execution_count": 17,
   "metadata": {},
   "outputs": [
    {
     "name": "stdout",
     "output_type": "stream",
     "text": [
      "Anil : update with new phone number\n",
      "Harsha not exist in contacts\n"
     ]
    }
   ],
   "source": [
    "def updateContact(name,phone):\n",
    "    if name in contacts:\n",
    "        contacts[name]=phone\n",
    "        print(name,\": update with new phone number\")\n",
    "    else:\n",
    "        print(name,\"not exist in contacts\")\n",
    "    return\n",
    "updateContact(\"Anil\",9966552211)\n",
    "updateContact(\"Harsha\",9988774422)"
   ]
  },
  {
   "cell_type": "code",
   "execution_count": 20,
   "metadata": {},
   "outputs": [
    {
     "name": "stdout",
     "output_type": "stream",
     "text": [
      "Python Programming\n"
     ]
    }
   ],
   "source": [
    "\n",
    "lst=['Python','Programming'];\n",
    "print(\"{0} {1}\".format(lst[0],lst[1]))\n"
   ]
  },
  {
   "cell_type": "code",
   "execution_count": 18,
   "metadata": {},
   "outputs": [
    {
     "name": "stdout",
     "output_type": "stream",
     "text": [
      "1 2 3 4\n"
     ]
    }
   ],
   "source": [
    "\n",
    "lst=[1,2,3,4]\n",
    "print(\"%d %d %d %d\"%(lst[0],lst[1],lst[2],lst[3]))"
   ]
  },
  {
   "cell_type": "code",
   "execution_count": 19,
   "metadata": {},
   "outputs": [
    {
     "name": "stdout",
     "output_type": "stream",
     "text": [
      "Value at : 1  Value at : 2\n",
      "Value at : 3  Value at : 4\n"
     ]
    }
   ],
   "source": [
    "lst=[1,2,3,4]\n",
    "print(\"Value at : {0}  Value at : {1}\".format(lst[0],lst[1]))\n",
    "print(\"Value at : {0}  Value at : {1}\".format(lst[2],lst[3]))"
   ]
  },
  {
   "cell_type": "code",
   "execution_count": 21,
   "metadata": {},
   "outputs": [
    {
     "data": {
      "text/plain": [
       "123"
      ]
     },
     "execution_count": 21,
     "metadata": {},
     "output_type": "execute_result"
    }
   ],
   "source": [
    "\n",
    "\n",
    "from math import floor as f1\n",
    "f1(123.456)\n",
    "\n"
   ]
  },
  {
   "cell_type": "code",
   "execution_count": 22,
   "metadata": {},
   "outputs": [
    {
     "data": {
      "text/plain": [
       "120"
      ]
     },
     "execution_count": 22,
     "metadata": {},
     "output_type": "execute_result"
    }
   ],
   "source": [
    "from math import factorial as fact\n",
    "fact(5)"
   ]
  },
  {
   "cell_type": "code",
   "execution_count": 23,
   "metadata": {},
   "outputs": [
    {
     "data": {
      "text/plain": [
       "120"
      ]
     },
     "execution_count": 23,
     "metadata": {},
     "output_type": "execute_result"
    }
   ],
   "source": [
    "\n",
    "import math\n",
    "math.factorial(5)"
   ]
  },
  {
   "cell_type": "code",
   "execution_count": 2,
   "metadata": {},
   "outputs": [
    {
     "name": "stdout",
     "output_type": "stream",
     "text": [
      "100 36 18 77 104 114 82 57 95 64 "
     ]
    }
   ],
   "source": [
    "import random\n",
    "def generateRandomNumbers(n,lb,ub):\n",
    "    for i in range(0,n):\n",
    "        print(random.randint(lb,ub),end=\" \")\n",
    "    return\n",
    "generateRandomNumbers(10,12,120)"
   ]
  },
  {
   "cell_type": "markdown",
   "metadata": {},
   "source": [
    "### Assignment  "
   ]
  },
  {
   "cell_type": "code",
   "execution_count": 7,
   "metadata": {},
   "outputs": [
    {
     "data": {
      "text/plain": [
       "49"
      ]
     },
     "execution_count": 7,
     "metadata": {},
     "output_type": "execute_result"
    }
   ],
   "source": [
    "import math\n",
    "math.floor(49.43474547)"
   ]
  },
  {
   "cell_type": "code",
   "execution_count": 8,
   "metadata": {},
   "outputs": [
    {
     "data": {
      "text/plain": [
       "1.0"
      ]
     },
     "execution_count": 8,
     "metadata": {},
     "output_type": "execute_result"
    }
   ],
   "source": [
    "import math\n",
    "math.log10(10)"
   ]
  },
  {
   "cell_type": "code",
   "execution_count": 10,
   "metadata": {},
   "outputs": [
    {
     "data": {
      "text/plain": [
       "16.0"
      ]
     },
     "execution_count": 10,
     "metadata": {},
     "output_type": "execute_result"
    }
   ],
   "source": [
    "import math\n",
    "math.pow(2,4)"
   ]
  },
  {
   "cell_type": "code",
   "execution_count": 13,
   "metadata": {},
   "outputs": [
    {
     "data": {
      "text/plain": [
       "5.0"
      ]
     },
     "execution_count": 13,
     "metadata": {},
     "output_type": "execute_result"
    }
   ],
   "source": [
    "import math\n",
    "math.sqrt(25)"
   ]
  },
  {
   "cell_type": "code",
   "execution_count": 12,
   "metadata": {},
   "outputs": [
    {
     "data": {
      "text/plain": [
       "5"
      ]
     },
     "execution_count": 12,
     "metadata": {},
     "output_type": "execute_result"
    }
   ],
   "source": [
    "import math\n",
    "math.ceil(4.675678)"
   ]
  },
  {
   "cell_type": "code",
   "execution_count": 14,
   "metadata": {},
   "outputs": [
    {
     "data": {
      "text/plain": [
       "2.0"
      ]
     },
     "execution_count": 14,
     "metadata": {},
     "output_type": "execute_result"
    }
   ],
   "source": [
    "import math\n",
    "math.fmod(2,4)"
   ]
  },
  {
   "cell_type": "code",
   "execution_count": 15,
   "metadata": {},
   "outputs": [
    {
     "data": {
      "text/plain": [
       "3"
      ]
     },
     "execution_count": 15,
     "metadata": {},
     "output_type": "execute_result"
    }
   ],
   "source": [
    "import math\n",
    "math.gcd(9,3)"
   ]
  },
  {
   "cell_type": "code",
   "execution_count": 16,
   "metadata": {},
   "outputs": [
    {
     "data": {
      "text/plain": [
       "(0.625, 3)"
      ]
     },
     "execution_count": 16,
     "metadata": {},
     "output_type": "execute_result"
    }
   ],
   "source": [
    "import math\n",
    "math.frexp(5)"
   ]
  },
  {
   "cell_type": "code",
   "execution_count": 17,
   "metadata": {},
   "outputs": [
    {
     "data": {
      "text/plain": [
       "4.0"
      ]
     },
     "execution_count": 17,
     "metadata": {},
     "output_type": "execute_result"
    }
   ],
   "source": [
    "import math\n",
    "math.fabs(4)"
   ]
  },
  {
   "cell_type": "code",
   "execution_count": 22,
   "metadata": {},
   "outputs": [
    {
     "data": {
      "text/plain": [
       "1.0"
      ]
     },
     "execution_count": 22,
     "metadata": {},
     "output_type": "execute_result"
    }
   ],
   "source": [
    "import math\n",
    "math.remainder(9,2)"
   ]
  },
  {
   "cell_type": "code",
   "execution_count": null,
   "metadata": {},
   "outputs": [],
   "source": []
  }
 ],
 "metadata": {
  "kernelspec": {
   "display_name": "Python 3",
   "language": "python",
   "name": "python3"
  },
  "language_info": {
   "codemirror_mode": {
    "name": "ipython",
    "version": 3
   },
   "file_extension": ".py",
   "mimetype": "text/x-python",
   "name": "python",
   "nbconvert_exporter": "python",
   "pygments_lexer": "ipython3",
   "version": "3.7.3"
  }
 },
 "nbformat": 4,
 "nbformat_minor": 2
}
